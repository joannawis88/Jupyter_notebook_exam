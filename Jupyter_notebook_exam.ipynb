{
  "metadata": {
    "language_info": {
      "codemirror_mode": {
        "name": "python",
        "version": 3
      },
      "file_extension": ".py",
      "mimetype": "text/x-python",
      "name": "python",
      "nbconvert_exporter": "python",
      "pygments_lexer": "ipython3",
      "version": "3.8"
    },
    "kernelspec": {
      "name": "python",
      "display_name": "Pyolite",
      "language": "python"
    }
  },
  "nbformat_minor": 4,
  "nbformat": 4,
  "cells": [
    {
      "cell_type": "markdown",
      "source": "# \"My Jupyter Notebook on IBM Watson Studio\"",
      "metadata": {}
    },
    {
      "cell_type": "markdown",
      "source": "**Joanna Wiśniewska**\n\nI want to develope myself in data science, I want to change life with data",
      "metadata": {}
    },
    {
      "cell_type": "markdown",
      "source": "*I am interested in data science because this exicting how we can change processes, world with analyziling data. Data give us posibilty to grow Based on history and not conjecture.*",
      "metadata": {}
    },
    {
      "cell_type": "markdown",
      "source": "### \"A simple calculation that uses addition of numbers\"",
      "metadata": {}
    },
    {
      "cell_type": "code",
      "source": "2 + 1",
      "metadata": {
        "trusted": true
      },
      "execution_count": 6,
      "outputs": [
        {
          "execution_count": 6,
          "output_type": "execute_result",
          "data": {
            "text/plain": "3"
          },
          "metadata": {}
        }
      ]
    },
    {
      "cell_type": "markdown",
      "source": "***\n\nI hope you are enjoy learning this course :)\n\n***\n\nMy Github you can find at <a href=\"https://github.com/joannawis88\" target=\"_blank\">this link</a>\n\n![Smile for you is here.](https://img.freepik.com/premium-vector/smile-logo-template_8163-40.jpg?w=2000)",
      "metadata": {}
    },
    {
      "cell_type": "code",
      "source": "",
      "metadata": {},
      "execution_count": null,
      "outputs": []
    }
  ]
}